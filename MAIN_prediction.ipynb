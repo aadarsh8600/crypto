{
  "nbformat": 4,
  "nbformat_minor": 0,
  "metadata": {
    "colab": {
      "provenance": [],
      "toc_visible": true
    },
    "kernelspec": {
      "name": "python3",
      "display_name": "Python 3"
    },
    "accelerator": "GPU"
  },
  "cells": [
    {
      "metadata": {
        "id": "sHEdIovSDZ0l",
        "colab": {
          "base_uri": "https://localhost:8080/"
        },
        "outputId": "675c3d38-3649-445d-ca01-327123e2ea57"
      },
      "cell_type": "code",
      "source": [
        "!pip install tensorflow-gpu==2.0.0-alpha0"
      ],
      "execution_count": null,
      "outputs": [
        {
          "output_type": "stream",
          "name": "stdout",
          "text": [
            "\u001b[31mERROR: Could not find a version that satisfies the requirement tensorflow-gpu==2.0.0-alpha0 (from versions: 2.8.0rc0, 2.8.0rc1, 2.8.0, 2.8.1, 2.8.2, 2.8.3, 2.8.4, 2.9.0rc0, 2.9.0rc1, 2.9.0rc2, 2.9.0, 2.9.1, 2.9.2, 2.9.3, 2.10.0rc0, 2.10.0rc1, 2.10.0rc2, 2.10.0rc3, 2.10.0, 2.10.1, 2.11.0rc0, 2.11.0rc1, 2.11.0rc2, 2.11.0, 2.12.0)\u001b[0m\u001b[31m\n",
            "\u001b[0m\u001b[31mERROR: No matching distribution found for tensorflow-gpu==2.0.0-alpha0\u001b[0m\u001b[31m\n",
            "\u001b[0m"
          ]
        }
      ]
    },
    {
      "cell_type": "code",
      "source": [],
      "metadata": {
        "id": "lA8WteIqBoXa"
      },
      "execution_count": null,
      "outputs": []
    },
    {
      "metadata": {
        "id": "VBXq-Wb_K1XR"
      },
      "cell_type": "code",
      "source": [
        "import os\n",
        "import numpy as np\n",
        "import tensorflow as tf\n",
        "from tensorflow import keras\n",
        "import pandas as pd\n",
        "import seaborn as sns\n",
        "from pylab import rcParams\n",
        "import matplotlib.pyplot as plt\n",
        "from matplotlib import rc\n",
        "from sklearn.preprocessing import MinMaxScaler\n",
        "from tensorflow.keras.layers import Bidirectional, Dropout, Activation, Dense, LSTM\n",
        "\n",
        "from tensorflow.keras.models import Sequential\n",
        "\n",
        "%matplotlib inline\n",
        "\n",
        "sns.set(style='whitegrid', palette='muted', font_scale=1.5)\n",
        "\n",
        "rcParams['figure.figsize'] = 14, 8\n",
        "\n",
        "RANDOM_SEED = 42\n",
        "\n",
        "np.random.seed(RANDOM_SEED)"
      ],
      "execution_count": null,
      "outputs": []
    },
    {
      "cell_type": "code",
      "source": [],
      "metadata": {
        "id": "S0xz3aSEOFoE"
      },
      "execution_count": null,
      "outputs": []
    },
    {
      "cell_type": "code",
      "source": [],
      "metadata": {
        "id": "Wa173uAoOG1m"
      },
      "execution_count": null,
      "outputs": []
    },
    {
      "metadata": {
        "id": "y5o6dHO2LLz-"
      },
      "cell_type": "code",
      "source": [
        "\n",
        "csv_path = \"https://raw.githubusercontent.com/curiousily/Deep-Learning-For-Hackers/master/data/3.stock-prediction/BTC-USD.csv\"\n"
      ],
      "execution_count": null,
      "outputs": []
    },
    {
      "metadata": {
        "id": "BnuBLC5DLjXH"
      },
      "cell_type": "code",
      "source": [
        "df = pd.read_csv(csv_path, parse_dates=['Date'])"
      ],
      "execution_count": null,
      "outputs": []
    },
    {
      "metadata": {
        "id": "kqMRRLeTLk_P"
      },
      "cell_type": "code",
      "source": [
        "df = df.sort_values('Date')"
      ],
      "execution_count": null,
      "outputs": []
    },
    {
      "metadata": {
        "id": "mU4B3eNtLpgH",
        "outputId": "0533d9cc-516f-4f76-8b03-8172d045da2b",
        "colab": {
          "base_uri": "https://localhost:8080/",
          "height": 206
        }
      },
      "cell_type": "code",
      "source": [
        "df.head()"
      ],
      "execution_count": null,
      "outputs": [
        {
          "output_type": "execute_result",
          "data": {
            "text/plain": [
              "        Date     Open     High      Low    Close  Adj Close  Volume\n",
              "0 2010-07-16  0.04951  0.04951  0.04951  0.04951    0.04951       0\n",
              "1 2010-07-17  0.04951  0.08585  0.05941  0.08584    0.08584       5\n",
              "2 2010-07-18  0.08584  0.09307  0.07723  0.08080    0.08080      49\n",
              "3 2010-07-19  0.08080  0.08181  0.07426  0.07474    0.07474      20\n",
              "4 2010-07-20  0.07474  0.07921  0.06634  0.07921    0.07921      42"
            ],
            "text/html": [
              "\n",
              "  <div id=\"df-26ebac6b-a53a-416c-b92b-08f03743ab64\" class=\"colab-df-container\">\n",
              "    <div>\n",
              "<style scoped>\n",
              "    .dataframe tbody tr th:only-of-type {\n",
              "        vertical-align: middle;\n",
              "    }\n",
              "\n",
              "    .dataframe tbody tr th {\n",
              "        vertical-align: top;\n",
              "    }\n",
              "\n",
              "    .dataframe thead th {\n",
              "        text-align: right;\n",
              "    }\n",
              "</style>\n",
              "<table border=\"1\" class=\"dataframe\">\n",
              "  <thead>\n",
              "    <tr style=\"text-align: right;\">\n",
              "      <th></th>\n",
              "      <th>Date</th>\n",
              "      <th>Open</th>\n",
              "      <th>High</th>\n",
              "      <th>Low</th>\n",
              "      <th>Close</th>\n",
              "      <th>Adj Close</th>\n",
              "      <th>Volume</th>\n",
              "    </tr>\n",
              "  </thead>\n",
              "  <tbody>\n",
              "    <tr>\n",
              "      <th>0</th>\n",
              "      <td>2010-07-16</td>\n",
              "      <td>0.04951</td>\n",
              "      <td>0.04951</td>\n",
              "      <td>0.04951</td>\n",
              "      <td>0.04951</td>\n",
              "      <td>0.04951</td>\n",
              "      <td>0</td>\n",
              "    </tr>\n",
              "    <tr>\n",
              "      <th>1</th>\n",
              "      <td>2010-07-17</td>\n",
              "      <td>0.04951</td>\n",
              "      <td>0.08585</td>\n",
              "      <td>0.05941</td>\n",
              "      <td>0.08584</td>\n",
              "      <td>0.08584</td>\n",
              "      <td>5</td>\n",
              "    </tr>\n",
              "    <tr>\n",
              "      <th>2</th>\n",
              "      <td>2010-07-18</td>\n",
              "      <td>0.08584</td>\n",
              "      <td>0.09307</td>\n",
              "      <td>0.07723</td>\n",
              "      <td>0.08080</td>\n",
              "      <td>0.08080</td>\n",
              "      <td>49</td>\n",
              "    </tr>\n",
              "    <tr>\n",
              "      <th>3</th>\n",
              "      <td>2010-07-19</td>\n",
              "      <td>0.08080</td>\n",
              "      <td>0.08181</td>\n",
              "      <td>0.07426</td>\n",
              "      <td>0.07474</td>\n",
              "      <td>0.07474</td>\n",
              "      <td>20</td>\n",
              "    </tr>\n",
              "    <tr>\n",
              "      <th>4</th>\n",
              "      <td>2010-07-20</td>\n",
              "      <td>0.07474</td>\n",
              "      <td>0.07921</td>\n",
              "      <td>0.06634</td>\n",
              "      <td>0.07921</td>\n",
              "      <td>0.07921</td>\n",
              "      <td>42</td>\n",
              "    </tr>\n",
              "  </tbody>\n",
              "</table>\n",
              "</div>\n",
              "    <div class=\"colab-df-buttons\">\n",
              "\n",
              "  <div class=\"colab-df-container\">\n",
              "    <button class=\"colab-df-convert\" onclick=\"convertToInteractive('df-26ebac6b-a53a-416c-b92b-08f03743ab64')\"\n",
              "            title=\"Convert this dataframe to an interactive table.\"\n",
              "            style=\"display:none;\">\n",
              "\n",
              "  <svg xmlns=\"http://www.w3.org/2000/svg\" height=\"24px\" viewBox=\"0 -960 960 960\">\n",
              "    <path d=\"M120-120v-720h720v720H120Zm60-500h600v-160H180v160Zm220 220h160v-160H400v160Zm0 220h160v-160H400v160ZM180-400h160v-160H180v160Zm440 0h160v-160H620v160ZM180-180h160v-160H180v160Zm440 0h160v-160H620v160Z\"/>\n",
              "  </svg>\n",
              "    </button>\n",
              "\n",
              "  <style>\n",
              "    .colab-df-container {\n",
              "      display:flex;\n",
              "      gap: 12px;\n",
              "    }\n",
              "\n",
              "    .colab-df-convert {\n",
              "      background-color: #E8F0FE;\n",
              "      border: none;\n",
              "      border-radius: 50%;\n",
              "      cursor: pointer;\n",
              "      display: none;\n",
              "      fill: #1967D2;\n",
              "      height: 32px;\n",
              "      padding: 0 0 0 0;\n",
              "      width: 32px;\n",
              "    }\n",
              "\n",
              "    .colab-df-convert:hover {\n",
              "      background-color: #E2EBFA;\n",
              "      box-shadow: 0px 1px 2px rgba(60, 64, 67, 0.3), 0px 1px 3px 1px rgba(60, 64, 67, 0.15);\n",
              "      fill: #174EA6;\n",
              "    }\n",
              "\n",
              "    .colab-df-buttons div {\n",
              "      margin-bottom: 4px;\n",
              "    }\n",
              "\n",
              "    [theme=dark] .colab-df-convert {\n",
              "      background-color: #3B4455;\n",
              "      fill: #D2E3FC;\n",
              "    }\n",
              "\n",
              "    [theme=dark] .colab-df-convert:hover {\n",
              "      background-color: #434B5C;\n",
              "      box-shadow: 0px 1px 3px 1px rgba(0, 0, 0, 0.15);\n",
              "      filter: drop-shadow(0px 1px 2px rgba(0, 0, 0, 0.3));\n",
              "      fill: #FFFFFF;\n",
              "    }\n",
              "  </style>\n",
              "\n",
              "    <script>\n",
              "      const buttonEl =\n",
              "        document.querySelector('#df-26ebac6b-a53a-416c-b92b-08f03743ab64 button.colab-df-convert');\n",
              "      buttonEl.style.display =\n",
              "        google.colab.kernel.accessAllowed ? 'block' : 'none';\n",
              "\n",
              "      async function convertToInteractive(key) {\n",
              "        const element = document.querySelector('#df-26ebac6b-a53a-416c-b92b-08f03743ab64');\n",
              "        const dataTable =\n",
              "          await google.colab.kernel.invokeFunction('convertToInteractive',\n",
              "                                                    [key], {});\n",
              "        if (!dataTable) return;\n",
              "\n",
              "        const docLinkHtml = 'Like what you see? Visit the ' +\n",
              "          '<a target=\"_blank\" href=https://colab.research.google.com/notebooks/data_table.ipynb>data table notebook</a>'\n",
              "          + ' to learn more about interactive tables.';\n",
              "        element.innerHTML = '';\n",
              "        dataTable['output_type'] = 'display_data';\n",
              "        await google.colab.output.renderOutput(dataTable, element);\n",
              "        const docLink = document.createElement('div');\n",
              "        docLink.innerHTML = docLinkHtml;\n",
              "        element.appendChild(docLink);\n",
              "      }\n",
              "    </script>\n",
              "  </div>\n",
              "\n",
              "\n",
              "<div id=\"df-1612df19-1ce1-4870-991b-cb1f539288a2\">\n",
              "  <button class=\"colab-df-quickchart\" onclick=\"quickchart('df-1612df19-1ce1-4870-991b-cb1f539288a2')\"\n",
              "            title=\"Suggest charts\"\n",
              "            style=\"display:none;\">\n",
              "\n",
              "<svg xmlns=\"http://www.w3.org/2000/svg\" height=\"24px\"viewBox=\"0 0 24 24\"\n",
              "     width=\"24px\">\n",
              "    <g>\n",
              "        <path d=\"M19 3H5c-1.1 0-2 .9-2 2v14c0 1.1.9 2 2 2h14c1.1 0 2-.9 2-2V5c0-1.1-.9-2-2-2zM9 17H7v-7h2v7zm4 0h-2V7h2v10zm4 0h-2v-4h2v4z\"/>\n",
              "    </g>\n",
              "</svg>\n",
              "  </button>\n",
              "\n",
              "<style>\n",
              "  .colab-df-quickchart {\n",
              "      --bg-color: #E8F0FE;\n",
              "      --fill-color: #1967D2;\n",
              "      --hover-bg-color: #E2EBFA;\n",
              "      --hover-fill-color: #174EA6;\n",
              "      --disabled-fill-color: #AAA;\n",
              "      --disabled-bg-color: #DDD;\n",
              "  }\n",
              "\n",
              "  [theme=dark] .colab-df-quickchart {\n",
              "      --bg-color: #3B4455;\n",
              "      --fill-color: #D2E3FC;\n",
              "      --hover-bg-color: #434B5C;\n",
              "      --hover-fill-color: #FFFFFF;\n",
              "      --disabled-bg-color: #3B4455;\n",
              "      --disabled-fill-color: #666;\n",
              "  }\n",
              "\n",
              "  .colab-df-quickchart {\n",
              "    background-color: var(--bg-color);\n",
              "    border: none;\n",
              "    border-radius: 50%;\n",
              "    cursor: pointer;\n",
              "    display: none;\n",
              "    fill: var(--fill-color);\n",
              "    height: 32px;\n",
              "    padding: 0;\n",
              "    width: 32px;\n",
              "  }\n",
              "\n",
              "  .colab-df-quickchart:hover {\n",
              "    background-color: var(--hover-bg-color);\n",
              "    box-shadow: 0 1px 2px rgba(60, 64, 67, 0.3), 0 1px 3px 1px rgba(60, 64, 67, 0.15);\n",
              "    fill: var(--button-hover-fill-color);\n",
              "  }\n",
              "\n",
              "  .colab-df-quickchart-complete:disabled,\n",
              "  .colab-df-quickchart-complete:disabled:hover {\n",
              "    background-color: var(--disabled-bg-color);\n",
              "    fill: var(--disabled-fill-color);\n",
              "    box-shadow: none;\n",
              "  }\n",
              "\n",
              "  .colab-df-spinner {\n",
              "    border: 2px solid var(--fill-color);\n",
              "    border-color: transparent;\n",
              "    border-bottom-color: var(--fill-color);\n",
              "    animation:\n",
              "      spin 1s steps(1) infinite;\n",
              "  }\n",
              "\n",
              "  @keyframes spin {\n",
              "    0% {\n",
              "      border-color: transparent;\n",
              "      border-bottom-color: var(--fill-color);\n",
              "      border-left-color: var(--fill-color);\n",
              "    }\n",
              "    20% {\n",
              "      border-color: transparent;\n",
              "      border-left-color: var(--fill-color);\n",
              "      border-top-color: var(--fill-color);\n",
              "    }\n",
              "    30% {\n",
              "      border-color: transparent;\n",
              "      border-left-color: var(--fill-color);\n",
              "      border-top-color: var(--fill-color);\n",
              "      border-right-color: var(--fill-color);\n",
              "    }\n",
              "    40% {\n",
              "      border-color: transparent;\n",
              "      border-right-color: var(--fill-color);\n",
              "      border-top-color: var(--fill-color);\n",
              "    }\n",
              "    60% {\n",
              "      border-color: transparent;\n",
              "      border-right-color: var(--fill-color);\n",
              "    }\n",
              "    80% {\n",
              "      border-color: transparent;\n",
              "      border-right-color: var(--fill-color);\n",
              "      border-bottom-color: var(--fill-color);\n",
              "    }\n",
              "    90% {\n",
              "      border-color: transparent;\n",
              "      border-bottom-color: var(--fill-color);\n",
              "    }\n",
              "  }\n",
              "</style>\n",
              "\n",
              "  <script>\n",
              "    async function quickchart(key) {\n",
              "      const quickchartButtonEl =\n",
              "        document.querySelector('#' + key + ' button');\n",
              "      quickchartButtonEl.disabled = true;  // To prevent multiple clicks.\n",
              "      quickchartButtonEl.classList.add('colab-df-spinner');\n",
              "      try {\n",
              "        const charts = await google.colab.kernel.invokeFunction(\n",
              "            'suggestCharts', [key], {});\n",
              "      } catch (error) {\n",
              "        console.error('Error during call to suggestCharts:', error);\n",
              "      }\n",
              "      quickchartButtonEl.classList.remove('colab-df-spinner');\n",
              "      quickchartButtonEl.classList.add('colab-df-quickchart-complete');\n",
              "    }\n",
              "    (() => {\n",
              "      let quickchartButtonEl =\n",
              "        document.querySelector('#df-1612df19-1ce1-4870-991b-cb1f539288a2 button');\n",
              "      quickchartButtonEl.style.display =\n",
              "        google.colab.kernel.accessAllowed ? 'block' : 'none';\n",
              "    })();\n",
              "  </script>\n",
              "</div>\n",
              "\n",
              "    </div>\n",
              "  </div>\n"
            ],
            "application/vnd.google.colaboratory.intrinsic+json": {
              "type": "dataframe",
              "variable_name": "df",
              "summary": "{\n  \"name\": \"df\",\n  \"rows\": 3201,\n  \"fields\": [\n    {\n      \"column\": \"Date\",\n      \"properties\": {\n        \"dtype\": \"date\",\n        \"min\": \"2010-07-16 00:00:00\",\n        \"max\": \"2019-04-20 00:00:00\",\n        \"num_unique_values\": 3192,\n        \"samples\": [\n          \"2013-05-13 00:00:00\",\n          \"2013-04-15 00:00:00\",\n          \"2012-09-10 00:00:00\"\n        ],\n        \"semantic_type\": \"\",\n        \"description\": \"\"\n      }\n    },\n    {\n      \"column\": \"Open\",\n      \"properties\": {\n        \"dtype\": \"number\",\n        \"std\": 2962.0797792674416,\n        \"min\": 0.04951,\n        \"max\": 19346.599609,\n        \"num_unique_values\": 2921,\n        \"samples\": [\n          637.919983,\n          419.059998,\n          775.210022\n        ],\n        \"semantic_type\": \"\",\n        \"description\": \"\"\n      }\n    },\n    {\n      \"column\": \"High\",\n      \"properties\": {\n        \"dtype\": \"number\",\n        \"std\": 3072.6538874599123,\n        \"min\": 0.04951,\n        \"max\": 19870.619141,\n        \"num_unique_values\": 2878,\n        \"samples\": [\n          5.19,\n          237.779999,\n          11901.870117\n        ],\n        \"semantic_type\": \"\",\n        \"description\": \"\"\n      }\n    },\n    {\n      \"column\": \"Low\",\n      \"properties\": {\n        \"dtype\": \"number\",\n        \"std\": 2824.3162986173443,\n        \"min\": 0.01,\n        \"max\": 18750.910156,\n        \"num_unique_values\": 2914,\n        \"samples\": [\n          235.889999,\n          452.709991,\n          4722.810059\n        ],\n        \"semantic_type\": \"\",\n        \"description\": \"\"\n      }\n    },\n    {\n      \"column\": \"Close\",\n      \"properties\": {\n        \"dtype\": \"number\",\n        \"std\": 2962.6301496604024,\n        \"min\": 0.04951,\n        \"max\": 19345.490234,\n        \"num_unique_values\": 2922,\n        \"samples\": [\n          3.52,\n          439.619995,\n          377.630005\n        ],\n        \"semantic_type\": \"\",\n        \"description\": \"\"\n      }\n    },\n    {\n      \"column\": \"Adj Close\",\n      \"properties\": {\n        \"dtype\": \"number\",\n        \"std\": 2962.6301496604024,\n        \"min\": 0.04951,\n        \"max\": 19345.490234,\n        \"num_unique_values\": 2922,\n        \"samples\": [\n          3.52,\n          439.619995,\n          377.630005\n        ],\n        \"semantic_type\": \"\",\n        \"description\": \"\"\n      }\n    },\n    {\n      \"column\": \"Volume\",\n      \"properties\": {\n        \"dtype\": \"number\",\n        \"std\": 407057179,\n        \"min\": 0,\n        \"max\": 6245731508,\n        \"num_unique_values\": 3186,\n        \"samples\": [\n          3130389,\n          3665399,\n          479223\n        ],\n        \"semantic_type\": \"\",\n        \"description\": \"\"\n      }\n    }\n  ]\n}"
            }
          },
          "metadata": {},
          "execution_count": 7
        }
      ]
    },
    {
      "metadata": {
        "id": "t-xB1zK0C0mG",
        "outputId": "f27c3c1b-efd1-4076-d23c-d87c718c353a",
        "colab": {
          "base_uri": "https://localhost:8080/"
        }
      },
      "cell_type": "code",
      "source": [
        "df.shape"
      ],
      "execution_count": null,
      "outputs": [
        {
          "output_type": "execute_result",
          "data": {
            "text/plain": [
              "(3201, 7)"
            ]
          },
          "metadata": {},
          "execution_count": 6
        }
      ]
    },
    {
      "metadata": {
        "id": "4XyoR5lG3Jxv",
        "outputId": "c33510fc-36b9-4945-f23f-5e8697de0396",
        "colab": {
          "base_uri": "https://localhost:8080/",
          "height": 691
        }
      },
      "cell_type": "code",
      "source": [
        "ax = df.plot(x='Date', y='Close');\n",
        "ax.set_xlabel(\"Date\")\n",
        "ax.set_ylabel(\"Close Price (USD)\")"
      ],
      "execution_count": null,
      "outputs": [
        {
          "output_type": "execute_result",
          "data": {
            "text/plain": [
              "Text(0, 0.5, 'Close Price (USD)')"
            ]
          },
          "metadata": {},
          "execution_count": 8
        },
        {
          "output_type": "display_data",
          "data": {
            "text/plain": [
              "<Figure size 1400x800 with 1 Axes>"
            ],
            "image/png": "[encoded data removed]"
          },
          "metadata": {}
        }
      ]
    },
    {
      "metadata": {
        "id": "Ux2FtgMAqObq"
      },
      "cell_type": "code",
      "source": [
        "scaler = MinMaxScaler()\n",
        "\n",
        "close_price = df.Close.values.reshape(-1, 1)\n",
        "\n",
        "scaled_close = scaler.fit_transform(close_price)"
      ],
      "execution_count": null,
      "outputs": []
    },
    {
      "cell_type": "code",
      "source": [
        "scaled_close"
      ],
      "metadata": {
        "id": "uSL1GUnfkEX8",
        "outputId": "c5994aea-65ef-42ea-eabb-17724680b44f",
        "colab": {
          "base_uri": "https://localhost:8080/"
        }
      },
      "execution_count": null,
      "outputs": [
        {
          "output_type": "execute_result",
          "data": {
            "text/plain": [
              "array([[0.00000000e+00],\n",
              "       [1.87796187e-06],\n",
              "       [1.61743537e-06],\n",
              "       ...,\n",
              "       [2.73732729e-01],\n",
              "       [2.75317101e-01],\n",
              "       [2.74260525e-01]])"
            ]
          },
          "metadata": {},
          "execution_count": 10
        }
      ]
    },
    {
      "metadata": {
        "id": "UprkaMWFvQOG",
        "outputId": "8331cc13-bba4-46b0-9712-b1eb0029299f",
        "colab": {
          "base_uri": "https://localhost:8080/"
        }
      },
      "cell_type": "code",
      "source": [
        "scaled_close.shape"
      ],
      "execution_count": null,
      "outputs": [
        {
          "output_type": "execute_result",
          "data": {
            "text/plain": [
              "(3201, 1)"
            ]
          },
          "metadata": {},
          "execution_count": 11
        }
      ]
    },
    {
      "metadata": {
        "id": "qOg2HX9AuTk-",
        "outputId": "73a26267-59c7-4dba-cc25-ba66b1625f0e",
        "colab": {
          "base_uri": "https://localhost:8080/"
        }
      },
      "cell_type": "code",
      "source": [
        "np.isnan(scaled_close).any()"
      ],
      "execution_count": null,
      "outputs": [
        {
          "output_type": "execute_result",
          "data": {
            "text/plain": [
              "False"
            ]
          },
          "metadata": {},
          "execution_count": 12
        }
      ]
    },
    {
      "metadata": {
        "id": "evHUrll9ukht"
      },
      "cell_type": "code",
      "source": [
        "scaled_close = scaled_close[~np.isnan(scaled_close)]"
      ],
      "execution_count": null,
      "outputs": []
    },
    {
      "metadata": {
        "id": "gCyOvwnqvTSw"
      },
      "cell_type": "code",
      "source": [
        "scaled_close = scaled_close.reshape(-1, 1)"
      ],
      "execution_count": null,
      "outputs": []
    },
    {
      "cell_type": "code",
      "source": [
        "scaled_close"
      ],
      "metadata": {
        "colab": {
          "base_uri": "https://localhost:8080/"
        },
        "id": "YHPIGZPmLUaZ",
        "outputId": "8af882f5-05be-4b6a-aeb5-92771c780364"
      },
      "execution_count": null,
      "outputs": [
        {
          "output_type": "execute_result",
          "data": {
            "text/plain": [
              "array([[0.00000000e+00],\n",
              "       [1.87796187e-06],\n",
              "       [1.61743537e-06],\n",
              "       ...,\n",
              "       [2.73732729e-01],\n",
              "       [2.75317101e-01],\n",
              "       [2.74260525e-01]])"
            ]
          },
          "metadata": {},
          "execution_count": 15
        }
      ]
    },
    {
      "metadata": {
        "id": "eSJxuT3-u6K2",
        "outputId": "ce9885b3-a5e3-4c8d-cd0c-ab4e951349c4",
        "colab": {
          "base_uri": "https://localhost:8080/"
        }
      },
      "cell_type": "code",
      "source": [
        "np.isnan(scaled_close).any()"
      ],
      "execution_count": null,
      "outputs": [
        {
          "output_type": "execute_result",
          "data": {
            "text/plain": [
              "False"
            ]
          },
          "metadata": {},
          "execution_count": 16
        }
      ]
    },
    {
      "metadata": {
        "id": "NS5O4-Vtq-N1"
      },
      "cell_type": "code",
      "source": [
        "SEQ_LEN = 100\n",
        "\n",
        "def to_sequences(data, seq_len):\n",
        "    d = []\n",
        "\n",
        "    for index in range(len(data) - seq_len):\n",
        "        d.append(data[index: index + seq_len])\n",
        "\n",
        "    return np.array(d)\n",
        "\n",
        "def preprocess(data_raw, seq_len, train_split):\n",
        "\n",
        "    data = to_sequences(data_raw, seq_len)\n",
        "\n",
        "    num_train = int(train_split * data.shape[0])\n",
        "\n",
        "    X_train = data[:num_train, :-1, :]\n",
        "    y_train = data[:num_train, -1, :]\n",
        "\n",
        "    X_test = data[num_train:, :-1, :]\n",
        "    y_test = data[num_train:, -1, :]\n",
        "\n",
        "    return X_train, y_train, X_test, y_test\n",
        "\n",
        "\n",
        "X_train, y_train, X_test, y_test = preprocess(scaled_close, SEQ_LEN, train_split = 0.95)"
      ],
      "execution_count": null,
      "outputs": []
    },
    {
      "metadata": {
        "id": "XNBTUeaXreni",
        "outputId": "c81dd439-64f3-4621-bae0-58f5e2ae4075",
        "colab": {
          "base_uri": "https://localhost:8080/"
        }
      },
      "cell_type": "code",
      "source": [
        "X_train.shape"
      ],
      "execution_count": null,
      "outputs": [
        {
          "output_type": "execute_result",
          "data": {
            "text/plain": [
              "(2945, 99, 1)"
            ]
          },
          "metadata": {},
          "execution_count": 18
        }
      ]
    },
    {
      "metadata": {
        "id": "4IOoiN3pUUgO",
        "colab": {
          "base_uri": "https://localhost:8080/"
        },
        "outputId": "a816c73b-f3d0-4ede-a14c-1b16abb1b92f"
      },
      "cell_type": "code",
      "source": [
        "X_test.shape"
      ],
      "execution_count": null,
      "outputs": [
        {
          "output_type": "execute_result",
          "data": {
            "text/plain": [
              "(156, 99, 1)"
            ]
          },
          "metadata": {},
          "execution_count": 19
        }
      ]
    },
    {
      "metadata": {
        "id": "Yhhv26c34YTW"
      },
      "cell_type": "markdown",
      "source": [
        "# Model"
      ]
    },
    {
      "metadata": {
        "id": "a3dw5qTasJoy"
      },
      "cell_type": "code",
      "source": [
        "DROPOUT = 0.2\n",
        "WINDOW_SIZE = SEQ_LEN - 1\n",
        "\n",
        "model = keras.Sequential()\n",
        "\n",
        "model.add(Bidirectional(LSTM(WINDOW_SIZE, return_sequences=True),\n",
        "                        input_shape=(WINDOW_SIZE, X_train.shape[-1])))\n",
        "model.add(Dropout(rate=DROPOUT))\n",
        "\n",
        "model.add(Bidirectional(LSTM((WINDOW_SIZE * 2), return_sequences=True)))\n",
        "model.add(Dropout(rate=DROPOUT))\n",
        "\n",
        "model.add(Bidirectional(LSTM(WINDOW_SIZE, return_sequences=False)))\n",
        "\n",
        "model.add(Dense(units=1))\n",
        "\n",
        "model.add(Activation('linear'))"
      ],
      "execution_count": null,
      "outputs": []
    },
    {
      "metadata": {
        "id": "pjBan-K27L8d"
      },
      "cell_type": "markdown",
      "source": [
        "# Training"
      ]
    },
    {
      "metadata": {
        "id": "zvc-LMgOHkWJ"
      },
      "cell_type": "code",
      "source": [
        "model.compile(\n",
        "    loss='mean_squared_error',\n",
        "    optimizer='adam'\n",
        ")"
      ],
      "execution_count": null,
      "outputs": []
    },
    {
      "metadata": {
        "id": "m1aU2xDvsvrN",
        "outputId": "d517fdc2-b878-473a-b8ef-8031ea4d4340",
        "colab": {
          "base_uri": "https://localhost:8080/"
        }
      },
      "cell_type": "code",
      "source": [
        "BATCH_SIZE = 64\n",
        "\n",
        "history = model.fit(\n",
        "    X_train,\n",
        "    y_train,\n",
        "    epochs=260,\n",
        "    batch_size=BATCH_SIZE,\n",
        "    shuffle=False,\n",
        "    validation_split=0.1\n",
        ")"
      ],
      "execution_count": null,
      "outputs": [
        {
          "output_type": "stream",
          "name": "stdout",
          "text": [
            "Epoch 1/260\n",
            "42/42 [==============================] - 17s 89ms/step - loss: 0.0021 - val_loss: 0.0071\n",
            "Epoch 2/260\n",
            "42/42 [==============================] - 2s 38ms/step - loss: 0.0111 - val_loss: 0.0134\n",
            "Epoch 3/260\n",
            "42/42 [==============================] - 2s 37ms/step - loss: 0.0053 - val_loss: 0.0048\n",
            "Epoch 4/260\n",
            "42/42 [==============================] - 2s 37ms/step - loss: 0.0176 - val_loss: 0.0436\n",
            "Epoch 5/260\n",
            "42/42 [==============================] - 2s 43ms/step - loss: 0.0038 - val_loss: 0.0037\n",
            "Epoch 6/260\n",
            "42/42 [==============================] - 2s 41ms/step - loss: 0.0141 - val_loss: 0.0621\n",
            "Epoch 7/260\n",
            "42/42 [==============================] - 2s 37ms/step - loss: 0.0079 - val_loss: 0.0090\n",
            "Epoch 8/260\n",
            "42/42 [==============================] - 2s 37ms/step - loss: 0.0096 - val_loss: 0.0168\n",
            "Epoch 9/260\n",
            "42/42 [==============================] - 2s 38ms/step - loss: 0.0130 - val_loss: 0.0725\n",
            "Epoch 10/260\n",
            "42/42 [==============================] - 2s 37ms/step - loss: 0.0140 - val_loss: 0.0640\n",
            "Epoch 11/260\n",
            "42/42 [==============================] - 2s 38ms/step - loss: 0.0048 - val_loss: 0.0039\n",
            "Epoch 12/260\n",
            "42/42 [==============================] - 2s 39ms/step - loss: 0.0111 - val_loss: 0.0539\n",
            "Epoch 13/260\n",
            "42/42 [==============================] - 2s 45ms/step - loss: 0.0143 - val_loss: 0.0827\n",
            "Epoch 14/260\n",
            "42/42 [==============================] - 2s 37ms/step - loss: 0.0138 - val_loss: 0.0713\n",
            "Epoch 15/260\n",
            "42/42 [==============================] - 2s 37ms/step - loss: 0.0099 - val_loss: 0.0337\n",
            "Epoch 16/260\n",
            "42/42 [==============================] - 2s 38ms/step - loss: 0.0052 - val_loss: 0.0381\n",
            "Epoch 17/260\n",
            "42/42 [==============================] - 2s 38ms/step - loss: 0.0116 - val_loss: 0.0781\n",
            "Epoch 18/260\n",
            "42/42 [==============================] - 2s 38ms/step - loss: 0.0136 - val_loss: 0.0720\n",
            "Epoch 19/260\n",
            "42/42 [==============================] - 2s 38ms/step - loss: 0.0115 - val_loss: 0.0644\n",
            "Epoch 20/260\n",
            "42/42 [==============================] - 2s 43ms/step - loss: 0.0080 - val_loss: 0.0361\n",
            "Epoch 21/260\n",
            "42/42 [==============================] - 2s 42ms/step - loss: 0.0017 - val_loss: 0.0017\n",
            "Epoch 22/260\n",
            "42/42 [==============================] - 2s 37ms/step - loss: 0.0021 - val_loss: 0.0047\n",
            "Epoch 23/260\n",
            "42/42 [==============================] - 2s 38ms/step - loss: 0.0031 - val_loss: 0.0074\n",
            "Epoch 24/260\n",
            "42/42 [==============================] - 2s 38ms/step - loss: 0.0087 - val_loss: 0.0679\n",
            "Epoch 25/260\n",
            "42/42 [==============================] - 2s 38ms/step - loss: 0.0084 - val_loss: 0.0490\n",
            "Epoch 26/260\n",
            "42/42 [==============================] - 2s 38ms/step - loss: 0.0039 - val_loss: 0.0166\n",
            "Epoch 27/260\n",
            "42/42 [==============================] - 2s 38ms/step - loss: 6.9881e-04 - val_loss: 0.0030\n",
            "Epoch 28/260\n",
            "42/42 [==============================] - 2s 43ms/step - loss: 4.0138e-04 - val_loss: 0.0012\n",
            "Epoch 29/260\n",
            "42/42 [==============================] - 2s 40ms/step - loss: 4.1835e-04 - val_loss: 0.0027\n",
            "Epoch 30/260\n",
            "42/42 [==============================] - 2s 38ms/step - loss: 4.6537e-04 - val_loss: 0.0012\n",
            "Epoch 31/260\n",
            "42/42 [==============================] - 2s 38ms/step - loss: 5.4222e-04 - val_loss: 0.0030\n",
            "Epoch 32/260\n",
            "42/42 [==============================] - 2s 38ms/step - loss: 6.7316e-04 - val_loss: 0.0024\n",
            "Epoch 33/260\n",
            "42/42 [==============================] - 2s 38ms/step - loss: 7.2271e-04 - val_loss: 0.0033\n",
            "Epoch 34/260\n",
            "42/42 [==============================] - 2s 38ms/step - loss: 8.6496e-04 - val_loss: 0.0043\n",
            "Epoch 35/260\n",
            "42/42 [==============================] - 2s 40ms/step - loss: 8.0328e-04 - val_loss: 0.0034\n",
            "Epoch 36/260\n",
            "42/42 [==============================] - 2s 43ms/step - loss: 8.0404e-04 - val_loss: 0.0037\n",
            "Epoch 37/260\n",
            "42/42 [==============================] - 2s 38ms/step - loss: 7.7957e-04 - val_loss: 0.0034\n",
            "Epoch 38/260\n",
            "42/42 [==============================] - 2s 38ms/step - loss: 6.8331e-04 - val_loss: 0.0026\n",
            "Epoch 39/260\n",
            "42/42 [==============================] - 2s 38ms/step - loss: 7.2106e-04 - val_loss: 0.0034\n",
            "Epoch 40/260\n",
            "42/42 [==============================] - 2s 38ms/step - loss: 7.0325e-04 - val_loss: 0.0026\n",
            "Epoch 41/260\n",
            "42/42 [==============================] - 2s 38ms/step - loss: 6.8286e-04 - val_loss: 0.0035\n",
            "Epoch 42/260\n",
            "42/42 [==============================] - 2s 38ms/step - loss: 6.4447e-04 - val_loss: 0.0024\n",
            "Epoch 43/260\n",
            "42/42 [==============================] - 2s 42ms/step - loss: 6.8586e-04 - val_loss: 0.0034\n",
            "Epoch 44/260\n",
            "42/42 [==============================] - 2s 41ms/step - loss: 7.0755e-04 - val_loss: 0.0029\n",
            "Epoch 45/260\n",
            "42/42 [==============================] - 2s 39ms/step - loss: 7.2840e-04 - val_loss: 0.0036\n",
            "Epoch 46/260\n",
            "42/42 [==============================] - 2s 39ms/step - loss: 7.5824e-04 - val_loss: 0.0034\n",
            "Epoch 47/260\n",
            "42/42 [==============================] - 2s 38ms/step - loss: 7.5011e-04 - val_loss: 0.0037\n",
            "Epoch 48/260\n",
            "42/42 [==============================] - 2s 39ms/step - loss: 8.1767e-04 - val_loss: 0.0040\n",
            "Epoch 49/260\n",
            "42/42 [==============================] - 2s 38ms/step - loss: 8.0677e-04 - val_loss: 0.0036\n",
            "Epoch 50/260\n",
            "42/42 [==============================] - 2s 40ms/step - loss: 8.1365e-04 - val_loss: 0.0041\n",
            "Epoch 51/260\n",
            "42/42 [==============================] - 2s 45ms/step - loss: 8.2002e-04 - val_loss: 0.0038\n",
            "Epoch 52/260\n",
            "42/42 [==============================] - 2s 39ms/step - loss: 9.0107e-04 - val_loss: 0.0048\n",
            "Epoch 53/260\n",
            "42/42 [==============================] - 2s 38ms/step - loss: 8.6930e-04 - val_loss: 0.0038\n",
            "Epoch 54/260\n",
            "42/42 [==============================] - 2s 39ms/step - loss: 8.8165e-04 - val_loss: 0.0050\n",
            "Epoch 55/260\n",
            "42/42 [==============================] - 2s 38ms/step - loss: 8.6870e-04 - val_loss: 0.0038\n",
            "Epoch 56/260\n",
            "42/42 [==============================] - 2s 38ms/step - loss: 8.2376e-04 - val_loss: 0.0047\n",
            "Epoch 57/260\n",
            "42/42 [==============================] - 2s 39ms/step - loss: 8.2711e-04 - val_loss: 0.0036\n",
            "Epoch 58/260\n",
            "42/42 [==============================] - 2s 42ms/step - loss: 8.3724e-04 - val_loss: 0.0046\n",
            "Epoch 59/260\n",
            "42/42 [==============================] - 2s 46ms/step - loss: 8.3088e-04 - val_loss: 0.0037\n",
            "Epoch 60/260\n",
            "42/42 [==============================] - 2s 43ms/step - loss: 8.6421e-04 - val_loss: 0.0048\n",
            "Epoch 61/260\n",
            "42/42 [==============================] - 2s 38ms/step - loss: 8.7419e-04 - val_loss: 0.0039\n",
            "Epoch 62/260\n",
            "42/42 [==============================] - 2s 38ms/step - loss: 9.4646e-04 - val_loss: 0.0057\n",
            "Epoch 63/260\n",
            "42/42 [==============================] - 2s 38ms/step - loss: 9.0584e-04 - val_loss: 0.0039\n",
            "Epoch 64/260\n",
            "42/42 [==============================] - 2s 38ms/step - loss: 9.2191e-04 - val_loss: 0.0058\n",
            "Epoch 65/260\n",
            "42/42 [==============================] - 2s 40ms/step - loss: 8.8843e-04 - val_loss: 0.0039\n",
            "Epoch 66/260\n",
            "42/42 [==============================] - 2s 43ms/step - loss: 8.6236e-04 - val_loss: 0.0054\n",
            "Epoch 67/260\n",
            "42/42 [==============================] - 2s 39ms/step - loss: 8.6071e-04 - val_loss: 0.0037\n",
            "Epoch 68/260\n",
            "42/42 [==============================] - 2s 39ms/step - loss: 9.1117e-04 - val_loss: 0.0060\n",
            "Epoch 69/260\n",
            "42/42 [==============================] - 2s 39ms/step - loss: 8.8202e-04 - val_loss: 0.0038\n",
            "Epoch 70/260\n",
            "42/42 [==============================] - 2s 39ms/step - loss: 8.5840e-04 - val_loss: 0.0057\n",
            "Epoch 71/260\n",
            "42/42 [==============================] - 2s 39ms/step - loss: 8.6247e-04 - val_loss: 0.0038\n",
            "Epoch 72/260\n",
            "42/42 [==============================] - 2s 39ms/step - loss: 9.1066e-04 - val_loss: 0.0060\n",
            "Epoch 73/260\n",
            "42/42 [==============================] - 2s 43ms/step - loss: 8.9596e-04 - val_loss: 0.0038\n",
            "Epoch 74/260\n",
            "42/42 [==============================] - 2s 41ms/step - loss: 8.9035e-04 - val_loss: 0.0066\n",
            "Epoch 75/260\n",
            "42/42 [==============================] - 2s 39ms/step - loss: 8.8839e-04 - val_loss: 0.0037\n",
            "Epoch 76/260\n",
            "42/42 [==============================] - 2s 39ms/step - loss: 8.6553e-04 - val_loss: 0.0059\n",
            "Epoch 77/260\n",
            "42/42 [==============================] - 2s 39ms/step - loss: 8.4393e-04 - val_loss: 0.0038\n",
            "Epoch 78/260\n",
            "42/42 [==============================] - 2s 39ms/step - loss: 8.5678e-04 - val_loss: 0.0062\n",
            "Epoch 79/260\n",
            "42/42 [==============================] - 2s 39ms/step - loss: 8.6078e-04 - val_loss: 0.0038\n",
            "Epoch 80/260\n",
            "42/42 [==============================] - 2s 42ms/step - loss: 9.2958e-04 - val_loss: 0.0070\n",
            "Epoch 81/260\n",
            "42/42 [==============================] - 2s 42ms/step - loss: 9.2335e-04 - val_loss: 0.0038\n",
            "Epoch 82/260\n",
            "42/42 [==============================] - 2s 39ms/step - loss: 9.6449e-04 - val_loss: 0.0081\n",
            "Epoch 83/260\n",
            "42/42 [==============================] - 2s 39ms/step - loss: 8.9590e-04 - val_loss: 0.0036\n",
            "Epoch 84/260\n",
            "42/42 [==============================] - 2s 39ms/step - loss: 9.5052e-04 - val_loss: 0.0080\n",
            "Epoch 85/260\n",
            "42/42 [==============================] - 2s 39ms/step - loss: 8.9310e-04 - val_loss: 0.0038\n",
            "Epoch 86/260\n",
            "42/42 [==============================] - 2s 39ms/step - loss: 9.4951e-04 - val_loss: 0.0084\n",
            "Epoch 87/260\n",
            "42/42 [==============================] - 2s 40ms/step - loss: 8.8143e-04 - val_loss: 0.0033\n",
            "Epoch 88/260\n",
            "42/42 [==============================] - 2s 44ms/step - loss: 9.7944e-04 - val_loss: 0.0083\n",
            "Epoch 89/260\n",
            "42/42 [==============================] - 2s 39ms/step - loss: 0.0010 - val_loss: 0.0045\n",
            "Epoch 90/260\n",
            "42/42 [==============================] - 2s 39ms/step - loss: 0.0013 - val_loss: 0.0135\n",
            "Epoch 91/260\n",
            "42/42 [==============================] - 2s 39ms/step - loss: 9.7859e-04 - val_loss: 0.0030\n",
            "Epoch 92/260\n",
            "42/42 [==============================] - 2s 39ms/step - loss: 0.0012 - val_loss: 0.0088\n",
            "Epoch 93/260\n",
            "42/42 [==============================] - 2s 39ms/step - loss: 0.0013 - val_loss: 0.0052\n",
            "Epoch 94/260\n",
            "42/42 [==============================] - 2s 39ms/step - loss: 0.0021 - val_loss: 0.0257\n",
            "Epoch 95/260\n",
            "42/42 [==============================] - 2s 42ms/step - loss: 0.0013 - val_loss: 0.0037\n",
            "Epoch 96/260\n",
            "42/42 [==============================] - 2s 42ms/step - loss: 8.2737e-04 - val_loss: 0.0054\n",
            "Epoch 97/260\n",
            "42/42 [==============================] - 2s 39ms/step - loss: 0.0011 - val_loss: 0.0044\n",
            "Epoch 98/260\n",
            "42/42 [==============================] - 2s 39ms/step - loss: 0.0019 - val_loss: 0.0202\n",
            "Epoch 99/260\n",
            "42/42 [==============================] - 2s 39ms/step - loss: 0.0015 - val_loss: 0.0070\n",
            "Epoch 100/260\n",
            "42/42 [==============================] - 2s 39ms/step - loss: 9.1268e-04 - val_loss: 0.0160\n",
            "Epoch 101/260\n",
            "42/42 [==============================] - 2s 39ms/step - loss: 0.0012 - val_loss: 0.0039\n",
            "Epoch 102/260\n",
            "42/42 [==============================] - 2s 42ms/step - loss: 9.3214e-04 - val_loss: 0.0053\n",
            "Epoch 103/260\n",
            "42/42 [==============================] - 2s 43ms/step - loss: 7.6467e-04 - val_loss: 0.0040\n",
            "Epoch 104/260\n",
            "42/42 [==============================] - 2s 39ms/step - loss: 6.4287e-04 - val_loss: 0.0052\n",
            "Epoch 105/260\n",
            "42/42 [==============================] - 2s 39ms/step - loss: 6.3519e-04 - val_loss: 0.0035\n",
            "Epoch 106/260\n",
            "42/42 [==============================] - 2s 39ms/step - loss: 5.4681e-04 - val_loss: 0.0043\n",
            "Epoch 107/260\n",
            "42/42 [==============================] - 2s 39ms/step - loss: 5.6704e-04 - val_loss: 0.0033\n",
            "Epoch 108/260\n",
            "42/42 [==============================] - 2s 39ms/step - loss: 5.6375e-04 - val_loss: 0.0048\n",
            "Epoch 109/260\n",
            "42/42 [==============================] - 2s 40ms/step - loss: 5.9709e-04 - val_loss: 0.0034\n",
            "Epoch 110/260\n",
            "42/42 [==============================] - 2s 42ms/step - loss: 6.0455e-04 - val_loss: 0.0057\n",
            "Epoch 111/260\n",
            "42/42 [==============================] - 2s 42ms/step - loss: 6.2523e-04 - val_loss: 0.0035\n",
            "Epoch 112/260\n",
            "42/42 [==============================] - 2s 39ms/step - loss: 6.9909e-04 - val_loss: 0.0073\n",
            "Epoch 113/260\n",
            "42/42 [==============================] - 2s 39ms/step - loss: 7.2482e-04 - val_loss: 0.0039\n",
            "Epoch 114/260\n",
            "42/42 [==============================] - 2s 39ms/step - loss: 8.5001e-04 - val_loss: 0.0097\n",
            "Epoch 115/260\n",
            "42/42 [==============================] - 2s 39ms/step - loss: 7.9006e-04 - val_loss: 0.0045\n",
            "Epoch 116/260\n",
            "42/42 [==============================] - 2s 39ms/step - loss: 7.8835e-04 - val_loss: 0.0108\n",
            "Epoch 117/260\n",
            "42/42 [==============================] - 2s 41ms/step - loss: 7.5380e-04 - val_loss: 0.0049\n",
            "Epoch 118/260\n",
            "42/42 [==============================] - 2s 43ms/step - loss: 7.2212e-04 - val_loss: 0.0109\n",
            "Epoch 119/260\n",
            "42/42 [==============================] - 2s 39ms/step - loss: 7.1036e-04 - val_loss: 0.0054\n",
            "Epoch 120/260\n",
            "42/42 [==============================] - 2s 39ms/step - loss: 8.0956e-04 - val_loss: 0.0135\n",
            "Epoch 121/260\n",
            "42/42 [==============================] - 2s 39ms/step - loss: 7.2165e-04 - val_loss: 0.0066\n",
            "Epoch 122/260\n",
            "42/42 [==============================] - 2s 40ms/step - loss: 8.0880e-04 - val_loss: 0.0161\n",
            "Epoch 123/260\n",
            "42/42 [==============================] - 2s 40ms/step - loss: 7.2237e-04 - val_loss: 0.0071\n",
            "Epoch 124/260\n",
            "42/42 [==============================] - 2s 40ms/step - loss: 0.0011 - val_loss: 0.0181\n",
            "Epoch 125/260\n",
            "42/42 [==============================] - 2s 42ms/step - loss: 8.3710e-04 - val_loss: 0.0135\n",
            "Epoch 126/260\n",
            "42/42 [==============================] - 2s 40ms/step - loss: 0.0017 - val_loss: 0.0388\n",
            "Epoch 127/260\n",
            "42/42 [==============================] - 2s 39ms/step - loss: 0.0011 - val_loss: 0.0057\n",
            "Epoch 128/260\n",
            "42/42 [==============================] - 2s 39ms/step - loss: 0.0032 - val_loss: 0.0177\n",
            "Epoch 129/260\n",
            "42/42 [==============================] - 2s 40ms/step - loss: 0.0017 - val_loss: 0.0510\n",
            "Epoch 130/260\n",
            "42/42 [==============================] - 2s 40ms/step - loss: 0.0033 - val_loss: 0.0456\n",
            "Epoch 131/260\n",
            "42/42 [==============================] - 2s 39ms/step - loss: 0.0179 - val_loss: 0.0097\n",
            "Epoch 132/260\n",
            "42/42 [==============================] - 2s 41ms/step - loss: 0.0071 - val_loss: 0.0120\n",
            "Epoch 133/260\n",
            "42/42 [==============================] - 2s 42ms/step - loss: 0.0028 - val_loss: 0.0088\n",
            "Epoch 134/260\n",
            "42/42 [==============================] - 2s 40ms/step - loss: 0.0058 - val_loss: 0.0285\n",
            "Epoch 135/260\n",
            "42/42 [==============================] - 2s 39ms/step - loss: 0.0042 - val_loss: 0.0038\n",
            "Epoch 136/260\n",
            "42/42 [==============================] - 2s 40ms/step - loss: 8.6110e-04 - val_loss: 0.0027\n",
            "Epoch 137/260\n",
            "42/42 [==============================] - 2s 40ms/step - loss: 8.9781e-04 - val_loss: 0.0036\n",
            "Epoch 138/260\n",
            "42/42 [==============================] - 2s 40ms/step - loss: 0.0013 - val_loss: 0.0093\n",
            "Epoch 139/260\n",
            "42/42 [==============================] - 2s 43ms/step - loss: 9.3306e-04 - val_loss: 0.0034\n",
            "Epoch 140/260\n",
            "42/42 [==============================] - 2s 43ms/step - loss: 3.2197e-04 - val_loss: 0.0028\n",
            "Epoch 141/260\n",
            "42/42 [==============================] - 2s 39ms/step - loss: 4.2061e-04 - val_loss: 0.0027\n",
            "Epoch 142/260\n",
            "42/42 [==============================] - 2s 39ms/step - loss: 3.0776e-04 - val_loss: 0.0025\n",
            "Epoch 143/260\n",
            "42/42 [==============================] - 2s 39ms/step - loss: 3.4158e-04 - val_loss: 0.0024\n",
            "Epoch 144/260\n",
            "42/42 [==============================] - 2s 39ms/step - loss: 2.8410e-04 - val_loss: 0.0023\n",
            "Epoch 145/260\n",
            "42/42 [==============================] - 2s 39ms/step - loss: 3.4078e-04 - val_loss: 0.0022\n",
            "Epoch 146/260\n",
            "42/42 [==============================] - 2s 39ms/step - loss: 3.0780e-04 - val_loss: 0.0021\n",
            "Epoch 147/260\n",
            "42/42 [==============================] - 2s 43ms/step - loss: 2.7948e-04 - val_loss: 0.0021\n",
            "Epoch 148/260\n",
            "42/42 [==============================] - 2s 41ms/step - loss: 2.7807e-04 - val_loss: 0.0020\n",
            "Epoch 149/260\n",
            "42/42 [==============================] - 2s 40ms/step - loss: 2.8449e-04 - val_loss: 0.0020\n",
            "Epoch 150/260\n",
            "42/42 [==============================] - 2s 40ms/step - loss: 2.7588e-04 - val_loss: 0.0021\n",
            "Epoch 151/260\n",
            "42/42 [==============================] - 2s 39ms/step - loss: 3.0881e-04 - val_loss: 0.0020\n",
            "Epoch 152/260\n",
            "42/42 [==============================] - 2s 39ms/step - loss: 2.9985e-04 - val_loss: 0.0024\n",
            "Epoch 153/260\n",
            "42/42 [==============================] - 2s 39ms/step - loss: 3.4408e-04 - val_loss: 0.0020\n",
            "Epoch 154/260\n",
            "42/42 [==============================] - 2s 41ms/step - loss: 4.5067e-04 - val_loss: 0.0033\n",
            "Epoch 155/260\n",
            "42/42 [==============================] - 2s 42ms/step - loss: 6.7798e-04 - val_loss: 0.0025\n",
            "Epoch 156/260\n",
            "42/42 [==============================] - 2s 39ms/step - loss: 0.0012 - val_loss: 0.0082\n",
            "Epoch 157/260\n",
            "42/42 [==============================] - 2s 39ms/step - loss: 9.5666e-04 - val_loss: 0.0035\n",
            "Epoch 158/260\n",
            "42/42 [==============================] - 2s 40ms/step - loss: 8.7379e-04 - val_loss: 0.0060\n",
            "Epoch 159/260\n",
            "42/42 [==============================] - 2s 39ms/step - loss: 7.9644e-04 - val_loss: 0.0032\n",
            "Epoch 160/260\n",
            "42/42 [==============================] - 2s 39ms/step - loss: 4.4543e-04 - val_loss: 0.0039\n",
            "Epoch 161/260\n",
            "42/42 [==============================] - 2s 40ms/step - loss: 5.7371e-04 - val_loss: 0.0028\n",
            "Epoch 162/260\n",
            "42/42 [==============================] - 2s 45ms/step - loss: 4.0455e-04 - val_loss: 0.0035\n",
            "Epoch 163/260\n",
            "42/42 [==============================] - 2s 40ms/step - loss: 5.1631e-04 - val_loss: 0.0027\n",
            "Epoch 164/260\n",
            "42/42 [==============================] - 2s 39ms/step - loss: 4.2019e-04 - val_loss: 0.0036\n",
            "Epoch 165/260\n",
            "42/42 [==============================] - 2s 40ms/step - loss: 5.6537e-04 - val_loss: 0.0026\n",
            "Epoch 166/260\n",
            "42/42 [==============================] - 2s 39ms/step - loss: 5.6128e-04 - val_loss: 0.0046\n",
            "Epoch 167/260\n",
            "42/42 [==============================] - 2s 39ms/step - loss: 6.7647e-04 - val_loss: 0.0029\n",
            "Epoch 168/260\n",
            "42/42 [==============================] - 2s 40ms/step - loss: 7.3610e-04 - val_loss: 0.0060\n",
            "Epoch 169/260\n",
            "42/42 [==============================] - 2s 43ms/step - loss: 8.0017e-04 - val_loss: 0.0033\n",
            "Epoch 170/260\n",
            "42/42 [==============================] - 2s 40ms/step - loss: 5.8754e-04 - val_loss: 0.0056\n",
            "Epoch 171/260\n",
            "42/42 [==============================] - 2s 39ms/step - loss: 6.7182e-04 - val_loss: 0.0031\n",
            "Epoch 172/260\n",
            "42/42 [==============================] - 2s 40ms/step - loss: 4.8438e-04 - val_loss: 0.0048\n",
            "Epoch 173/260\n",
            "42/42 [==============================] - 2s 40ms/step - loss: 5.9751e-04 - val_loss: 0.0030\n",
            "Epoch 174/260\n",
            "42/42 [==============================] - 2s 40ms/step - loss: 5.3796e-04 - val_loss: 0.0054\n",
            "Epoch 175/260\n",
            "42/42 [==============================] - 2s 40ms/step - loss: 6.6335e-04 - val_loss: 0.0031\n",
            "Epoch 176/260\n",
            "42/42 [==============================] - 2s 43ms/step - loss: 6.3733e-04 - val_loss: 0.0061\n",
            "Epoch 177/260\n",
            "42/42 [==============================] - 2s 42ms/step - loss: 7.3371e-04 - val_loss: 0.0033\n",
            "Epoch 178/260\n",
            "42/42 [==============================] - 2s 40ms/step - loss: 6.4822e-04 - val_loss: 0.0068\n",
            "Epoch 179/260\n",
            "42/42 [==============================] - 2s 40ms/step - loss: 7.5150e-04 - val_loss: 0.0034\n",
            "Epoch 180/260\n",
            "42/42 [==============================] - 2s 39ms/step - loss: 6.1524e-04 - val_loss: 0.0067\n",
            "Epoch 181/260\n",
            "42/42 [==============================] - 2s 40ms/step - loss: 7.4493e-04 - val_loss: 0.0034\n",
            "Epoch 182/260\n",
            "42/42 [==============================] - 2s 40ms/step - loss: 7.1888e-04 - val_loss: 0.0079\n",
            "Epoch 183/260\n",
            "42/42 [==============================] - 2s 41ms/step - loss: 7.5687e-04 - val_loss: 0.0037\n",
            "Epoch 184/260\n",
            "42/42 [==============================] - 2s 43ms/step - loss: 5.5046e-04 - val_loss: 0.0075\n",
            "Epoch 185/260\n",
            "42/42 [==============================] - 2s 40ms/step - loss: 7.1164e-04 - val_loss: 0.0038\n",
            "Epoch 186/260\n",
            "42/42 [==============================] - 2s 40ms/step - loss: 6.1034e-04 - val_loss: 0.0089\n",
            "Epoch 187/260\n",
            "42/42 [==============================] - 2s 45ms/step - loss: 6.8641e-04 - val_loss: 0.0041\n",
            "Epoch 188/260\n",
            "42/42 [==============================] - 2s 43ms/step - loss: 5.3403e-04 - val_loss: 0.0089\n",
            "Epoch 189/260\n",
            "42/42 [==============================] - 2s 40ms/step - loss: 6.8084e-04 - val_loss: 0.0043\n",
            "Epoch 190/260\n",
            "42/42 [==============================] - 2s 41ms/step - loss: 6.3426e-04 - val_loss: 0.0106\n",
            "Epoch 191/260\n",
            "42/42 [==============================] - 2s 45ms/step - loss: 7.0367e-04 - val_loss: 0.0045\n",
            "Epoch 192/260\n",
            "42/42 [==============================] - 2s 40ms/step - loss: 6.2675e-04 - val_loss: 0.0111\n",
            "Epoch 193/260\n",
            "42/42 [==============================] - 2s 41ms/step - loss: 7.0245e-04 - val_loss: 0.0050\n",
            "Epoch 194/260\n",
            "42/42 [==============================] - 2s 39ms/step - loss: 6.2319e-04 - val_loss: 0.0137\n",
            "Epoch 195/260\n",
            "42/42 [==============================] - 2s 39ms/step - loss: 7.1535e-04 - val_loss: 0.0062\n",
            "Epoch 196/260\n",
            "42/42 [==============================] - 2s 39ms/step - loss: 5.3038e-04 - val_loss: 0.0156\n",
            "Epoch 197/260\n",
            "42/42 [==============================] - 2s 40ms/step - loss: 6.5939e-04 - val_loss: 0.0077\n",
            "Epoch 198/260\n",
            "42/42 [==============================] - 2s 43ms/step - loss: 5.1546e-04 - val_loss: 0.0209\n",
            "Epoch 199/260\n",
            "42/42 [==============================] - 2s 41ms/step - loss: 6.0664e-04 - val_loss: 0.0091\n",
            "Epoch 200/260\n",
            "42/42 [==============================] - 2s 40ms/step - loss: 5.6510e-04 - val_loss: 0.0245\n",
            "Epoch 201/260\n",
            "42/42 [==============================] - 2s 40ms/step - loss: 6.6745e-04 - val_loss: 0.0083\n",
            "Epoch 202/260\n",
            "42/42 [==============================] - 2s 40ms/step - loss: 6.1872e-04 - val_loss: 0.0207\n",
            "Epoch 203/260\n",
            "42/42 [==============================] - 2s 39ms/step - loss: 6.4856e-04 - val_loss: 0.0020\n",
            "Epoch 204/260\n",
            "42/42 [==============================] - 2s 39ms/step - loss: 5.7277e-04 - val_loss: 0.0056\n",
            "Epoch 205/260\n",
            "42/42 [==============================] - 2s 42ms/step - loss: 7.4877e-04 - val_loss: 0.0032\n",
            "Epoch 206/260\n",
            "42/42 [==============================] - 2s 42ms/step - loss: 8.0275e-04 - val_loss: 0.0085\n",
            "Epoch 207/260\n",
            "42/42 [==============================] - 2s 40ms/step - loss: 8.6747e-04 - val_loss: 0.0028\n",
            "Epoch 208/260\n",
            "42/42 [==============================] - 2s 39ms/step - loss: 7.2794e-04 - val_loss: 0.0094\n",
            "Epoch 209/260\n",
            "42/42 [==============================] - 2s 39ms/step - loss: 7.9509e-04 - val_loss: 0.0038\n",
            "Epoch 210/260\n",
            "42/42 [==============================] - 2s 40ms/step - loss: 8.0145e-04 - val_loss: 0.0123\n",
            "Epoch 211/260\n",
            "42/42 [==============================] - 2s 40ms/step - loss: 8.3401e-04 - val_loss: 0.0039\n",
            "Epoch 212/260\n",
            "42/42 [==============================] - 2s 42ms/step - loss: 7.5990e-04 - val_loss: 0.0116\n",
            "Epoch 213/260\n",
            "42/42 [==============================] - 2s 44ms/step - loss: 7.9569e-04 - val_loss: 0.0041\n",
            "Epoch 214/260\n",
            "42/42 [==============================] - 2s 40ms/step - loss: 7.5275e-04 - val_loss: 0.0155\n",
            "Epoch 215/260\n",
            "42/42 [==============================] - 2s 40ms/step - loss: 7.7741e-04 - val_loss: 0.0059\n",
            "Epoch 216/260\n",
            "42/42 [==============================] - 2s 40ms/step - loss: 5.1789e-04 - val_loss: 0.0174\n",
            "Epoch 217/260\n",
            "42/42 [==============================] - 2s 40ms/step - loss: 6.4070e-04 - val_loss: 0.0060\n",
            "Epoch 218/260\n",
            "42/42 [==============================] - 2s 40ms/step - loss: 4.6244e-04 - val_loss: 0.0147\n",
            "Epoch 219/260\n",
            "42/42 [==============================] - 2s 41ms/step - loss: 4.9508e-04 - val_loss: 0.0069\n",
            "Epoch 220/260\n",
            "42/42 [==============================] - 2s 45ms/step - loss: 3.8607e-04 - val_loss: 0.0170\n",
            "Epoch 221/260\n",
            "42/42 [==============================] - 2s 40ms/step - loss: 4.4265e-04 - val_loss: 0.0096\n",
            "Epoch 222/260\n",
            "42/42 [==============================] - 2s 40ms/step - loss: 4.2135e-04 - val_loss: 0.0287\n",
            "Epoch 223/260\n",
            "42/42 [==============================] - 2s 40ms/step - loss: 4.6420e-04 - val_loss: 0.0079\n",
            "Epoch 224/260\n",
            "42/42 [==============================] - 2s 40ms/step - loss: 4.7070e-04 - val_loss: 0.0213\n",
            "Epoch 225/260\n",
            "42/42 [==============================] - 2s 40ms/step - loss: 5.7239e-04 - val_loss: 0.0123\n",
            "Epoch 226/260\n",
            "42/42 [==============================] - 2s 40ms/step - loss: 5.7351e-04 - val_loss: 0.0221\n",
            "Epoch 227/260\n",
            "42/42 [==============================] - 2s 43ms/step - loss: 4.7125e-04 - val_loss: 0.0036\n",
            "Epoch 228/260\n",
            "42/42 [==============================] - 2s 42ms/step - loss: 0.0012 - val_loss: 0.0076\n",
            "Epoch 229/260\n",
            "42/42 [==============================] - 2s 39ms/step - loss: 0.0017 - val_loss: 0.0048\n",
            "Epoch 230/260\n",
            "42/42 [==============================] - 2s 39ms/step - loss: 0.0050 - val_loss: 1.1117\n",
            "Epoch 231/260\n",
            "42/42 [==============================] - 2s 39ms/step - loss: 0.0373 - val_loss: 0.0826\n",
            "Epoch 232/260\n",
            "42/42 [==============================] - 2s 39ms/step - loss: 0.0104 - val_loss: 0.0162\n",
            "Epoch 233/260\n",
            "42/42 [==============================] - 2s 40ms/step - loss: 0.0032 - val_loss: 0.0029\n",
            "Epoch 234/260\n",
            "42/42 [==============================] - 2s 42ms/step - loss: 0.0029 - val_loss: 0.0243\n",
            "Epoch 235/260\n",
            "42/42 [==============================] - 2s 43ms/step - loss: 0.0013 - val_loss: 0.0022\n",
            "Epoch 236/260\n",
            "42/42 [==============================] - 2s 40ms/step - loss: 7.7420e-04 - val_loss: 0.0026\n",
            "Epoch 237/260\n",
            "42/42 [==============================] - 2s 40ms/step - loss: 5.7524e-04 - val_loss: 0.0022\n",
            "Epoch 238/260\n",
            "42/42 [==============================] - 2s 40ms/step - loss: 5.4708e-04 - val_loss: 0.0022\n",
            "Epoch 239/260\n",
            "42/42 [==============================] - 2s 40ms/step - loss: 5.0724e-04 - val_loss: 0.0020\n",
            "Epoch 240/260\n",
            "42/42 [==============================] - 2s 40ms/step - loss: 4.6833e-04 - val_loss: 0.0020\n",
            "Epoch 241/260\n",
            "42/42 [==============================] - 2s 42ms/step - loss: 4.4983e-04 - val_loss: 0.0019\n",
            "Epoch 242/260\n",
            "42/42 [==============================] - 2s 43ms/step - loss: 4.6693e-04 - val_loss: 0.0022\n",
            "Epoch 243/260\n",
            "42/42 [==============================] - 2s 40ms/step - loss: 4.4714e-04 - val_loss: 0.0019\n",
            "Epoch 244/260\n",
            "42/42 [==============================] - 2s 40ms/step - loss: 4.3734e-04 - val_loss: 0.0019\n",
            "Epoch 245/260\n",
            "42/42 [==============================] - 2s 40ms/step - loss: 4.0433e-04 - val_loss: 0.0019\n",
            "Epoch 246/260\n",
            "42/42 [==============================] - 2s 39ms/step - loss: 4.0512e-04 - val_loss: 0.0018\n",
            "Epoch 247/260\n",
            "42/42 [==============================] - 2s 39ms/step - loss: 4.2946e-04 - val_loss: 0.0020\n",
            "Epoch 248/260\n",
            "42/42 [==============================] - 2s 41ms/step - loss: 3.7680e-04 - val_loss: 0.0020\n",
            "Epoch 249/260\n",
            "42/42 [==============================] - 2s 44ms/step - loss: 4.0958e-04 - val_loss: 0.0020\n",
            "Epoch 250/260\n",
            "42/42 [==============================] - 2s 41ms/step - loss: 3.5763e-04 - val_loss: 0.0023\n",
            "Epoch 251/260\n",
            "42/42 [==============================] - 2s 39ms/step - loss: 3.9619e-04 - val_loss: 0.0021\n",
            "Epoch 252/260\n",
            "42/42 [==============================] - 2s 39ms/step - loss: 3.5170e-04 - val_loss: 0.0027\n",
            "Epoch 253/260\n",
            "42/42 [==============================] - 2s 40ms/step - loss: 4.2570e-04 - val_loss: 0.0022\n",
            "Epoch 254/260\n",
            "42/42 [==============================] - 2s 40ms/step - loss: 3.9831e-04 - val_loss: 0.0034\n",
            "Epoch 255/260\n",
            "42/42 [==============================] - 2s 40ms/step - loss: 5.4506e-04 - val_loss: 0.0023\n",
            "Epoch 256/260\n",
            "42/42 [==============================] - 2s 43ms/step - loss: 5.8755e-04 - val_loss: 0.0063\n",
            "Epoch 257/260\n",
            "42/42 [==============================] - 2s 43ms/step - loss: 6.3745e-04 - val_loss: 0.0061\n",
            "Epoch 258/260\n",
            "42/42 [==============================] - 2s 40ms/step - loss: 4.9108e-04 - val_loss: 0.0065\n",
            "Epoch 259/260\n",
            "42/42 [==============================] - 2s 39ms/step - loss: 6.2938e-04 - val_loss: 0.0043\n",
            "Epoch 260/260\n",
            "42/42 [==============================] - 2s 39ms/step - loss: 3.8091e-04 - val_loss: 0.0057\n"
          ]
        }
      ]
    },
    {
      "cell_type": "code",
      "source": [],
      "metadata": {
        "id": "5wC3lOpRvQIz"
      },
      "execution_count": null,
      "outputs": []
    },
    {
      "metadata": {
        "id": "L9JumIeP40xv",
        "outputId": "cc6b4752-ef34-4b45-e938-f15e98a68462",
        "colab": {
          "base_uri": "https://localhost:8080/"
        }
      },
      "cell_type": "code",
      "source": [
        "model.evaluate(X_test, y_test)"
      ],
      "execution_count": null,
      "outputs": [
        {
          "output_type": "stream",
          "name": "stdout",
          "text": [
            "5/5 [==============================] - 0s 26ms/step - loss: 8.5726e-04\n"
          ]
        },
        {
          "output_type": "execute_result",
          "data": {
            "text/plain": [
              "0.0008572640945203602"
            ]
          },
          "metadata": {},
          "execution_count": 23
        }
      ]
    },
    {
      "cell_type": "code",
      "source": [
        "model.save(\"project.keras\")"
      ],
      "metadata": {
        "id": "OJ0NPDmc8YxM"
      },
      "execution_count": null,
      "outputs": []
    },
    {
      "metadata": {
        "id": "2_9ibR1e5DnQ",
        "outputId": "2c12a326-c54b-42aa-fe5d-646f39fb97ee",
        "colab": {
          "base_uri": "https://localhost:8080/",
          "height": 746
        }
      },
      "cell_type": "code",
      "source": [
        "plt.plot(history.history['loss'])\n",
        "plt.plot(history.history['val_loss'])\n",
        "plt.title('model loss')\n",
        "plt.ylabel('loss')\n",
        "plt.xlabel('epoch')\n",
        "plt.legend(['train', 'test'], loc='upper left')\n",
        "plt.show()"
      ],
      "execution_count": null,
      "outputs": [
        {
          "output_type": "display_data",
          "data": {
            "text/plain": [
              "<Figure size 1400x800 with 1 Axes>"
            ],
            "image/png": "[encoded data removed]"
          },
          "metadata": {}
        }
      ]
    },
    {
      "metadata": {
        "id": "Xf9STH2D4_hP"
      },
      "cell_type": "markdown",
      "source": [
        "# Prediction"
      ]
    },
    {
      "metadata": {
        "id": "Lui1XTi0xVsF",
        "outputId": "6b36bcfb-fab7-4972-a4d6-94fade68eb9d",
        "colab": {
          "base_uri": "https://localhost:8080/",
          "height": 764
        }
      },
      "cell_type": "code",
      "source": [
        "y_hat = model.predict(X_test)\n",
        "\n",
        "y_test_inverse = scaler.inverse_transform(y_test)\n",
        "y_hat_inverse = scaler.inverse_transform(y_hat)\n",
        "\n",
        "plt.plot(y_test_inverse, label=\"Actual Price\", color='green')\n",
        "plt.plot(y_hat_inverse, label=\"Predicted Price\", color='red')\n",
        "\n",
        "plt.title('Bitcoin price prediction')\n",
        "plt.xlabel('Time [days]')\n",
        "plt.ylabel('Price')\n",
        "plt.legend(loc='best')\n",
        "\n",
        "plt.show();"
      ],
      "execution_count": null,
      "outputs": [
        {
          "output_type": "stream",
          "name": "stdout",
          "text": [
            "5/5 [==============================] - 4s 20ms/step\n"
          ]
        },
        {
          "output_type": "display_data",
          "data": {
            "text/plain": [
              "<Figure size 1400x800 with 1 Axes>"
            ],
            "image/png": "[encoded data removed]"
          },
          "metadata": {}
        }
      ]
    },
    {
      "metadata": {
        "id": "ak-CiQAVz4Fw",
        "colab": {
          "base_uri": "https://localhost:8080/"
        },
        "outputId": "3fd3268f-cbb0-44c8-adcb-185358e4e222"
      },
      "cell_type": "code",
      "source": [
        "from sklearn.metrics import mean_absolute_error, mean_squared_error, r2_score\n",
        "import numpy as np\n",
        "\n",
        "# Assuming y_test_inverse and y_hat_inverse are numpy arrays or can be converted to numpy arrays\n",
        "y_test_inverse = np.array(y_test_inverse)\n",
        "y_hat_inverse = np.array(y_hat_inverse)\n",
        "\n",
        "# Calculate Mean Absolute Error (MAE)\n",
        "mae = mean_absolute_error(y_test_inverse, y_hat_inverse)\n",
        "print(f\"Mean Absolute Error (MAE): {mae}\")\n",
        "\n",
        "# Calculate Mean Squared Error (MSE)\n",
        "mse = mean_squared_error(y_test_inverse, y_hat_inverse)\n",
        "print(f\"Mean Squared Error (MSE): {mse}\")\n",
        "\n",
        "# Calculate Root Mean Squared Error (RMSE)\n",
        "rmse = np.sqrt(mse)\n",
        "print(f\"Root Mean Squared Error (RMSE): {rmse}\")\n",
        "\n",
        "# Calculate R-squared (R²)\n",
        "r2 = r2_score(y_test_inverse, y_hat_inverse)\n",
        "print(f\"R-squared (R²): {r2}\")\n",
        "from sklearn.metrics import mean_absolute_percentage_error\n",
        "\n",
        "# Calculate Mean Absolute Percentage Error (MAPE)\n",
        "mape = mean_absolute_percentage_error(y_test_inverse, y_hat_inverse)\n",
        "accuracy = 100 - (mape * 100)\n",
        "print(f\"Accuracy: {accuracy}%\")"
      ],
      "execution_count": null,
      "outputs": [
        {
          "output_type": "stream",
          "name": "stdout",
          "text": [
            "Mean Absolute Error (MAE): 504.98667710136226\n",
            "Mean Squared Error (MSE): 320827.6330260433\n",
            "Root Mean Squared Error (RMSE): 566.4164837167465\n",
            "R-squared (R²): -0.05444467548351484\n",
            "Accuracy: 86.76566241738341%\n"
          ]
        }
      ]
    },
    {
      "cell_type": "code",
      "source": [
        "\n"
      ],
      "metadata": {
        "id": "rz6uTIeFBtxz"
      },
      "execution_count": null,
      "outputs": []
    },
    {
      "cell_type": "code",
      "source": [],
      "metadata": {
        "id": "QiJMnsxXCFDL"
      },
      "execution_count": null,
      "outputs": []
    },
    {
      "cell_type": "code",
      "source": [
        "\n",
        "\n",
        "\n"
      ],
      "metadata": {
        "id": "E_C6j0BJCTV2"
      },
      "execution_count": null,
      "outputs": []
    },
    {
      "cell_type": "code",
      "source": [],
      "metadata": {
        "id": "2RUMXHnnCr6d"
      },
      "execution_count": null,
      "outputs": []
    },
    {
      "cell_type": "code",
      "source": [],
      "metadata": {
        "id": "46NuOQfxCrFx"
      },
      "execution_count": null,
      "outputs": []
    },
    {
      "cell_type": "code",
      "source": [],
      "metadata": {
        "id": "x7vE3XzvOIJx"
      },
      "execution_count": null,
      "outputs": []
    },
    {
      "cell_type": "code",
      "source": [],
      "metadata": {
        "id": "h5EVyUtm6nwc"
      },
      "execution_count": null,
      "outputs": []
    },
    {
      "cell_type": "code",
      "source": [],
      "metadata": {
        "id": "Nse1mzoG0rbq"
      },
      "execution_count": null,
      "outputs": []
    },
    {
      "cell_type": "code",
      "source": [],
      "metadata": {
        "id": "C3-SOCCz6wuD"
      },
      "execution_count": null,
      "outputs": []
    },
    {
      "cell_type": "code",
      "source": [],
      "metadata": {
        "id": "hqpBIf0jzGPj"
      },
      "execution_count": null,
      "outputs": []
    },
    {
      "cell_type": "code",
      "source": [],
      "metadata": {
        "id": "dL_HutNgzJg2"
      },
      "execution_count": null,
      "outputs": []
    },
    {
      "cell_type": "code",
      "source": [],
      "metadata": {
        "id": "JM6P_hS6zT2i"
      },
      "execution_count": null,
      "outputs": []
    },
    {
      "cell_type": "code",
      "source": [],
      "metadata": {
        "id": "mSWfQ-b1zmpo"
      },
      "execution_count": null,
      "outputs": []
    },
    {
      "cell_type": "code",
      "source": [],
      "metadata": {
        "id": "If-8MbMpz8-a"
      },
      "execution_count": null,
      "outputs": []
    },
    {
      "cell_type": "code",
      "source": [],
      "metadata": {
        "id": "KXwqRBNnzqbC"
      },
      "execution_count": null,
      "outputs": []
    },
    {
      "cell_type": "code",
      "source": [
        "\n"
      ],
      "metadata": {
        "id": "s51lFu9MzuSI"
      },
      "execution_count": null,
      "outputs": []
    },
    {
      "cell_type": "code",
      "source": [
        "\n"
      ],
      "metadata": {
        "id": "0r-fD5xpOmaP"
      },
      "execution_count": null,
      "outputs": []
    }
  ]
}